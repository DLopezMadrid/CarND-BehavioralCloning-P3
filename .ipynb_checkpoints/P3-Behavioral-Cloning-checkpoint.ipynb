{
 "cells": [
  {
   "cell_type": "code",
   "execution_count": null,
   "metadata": {
    "collapsed": false
   },
   "outputs": [],
   "source": [
    "import numpy as np\n",
    "import tqdm\n",
    "import time\n",
    "import csv\n",
    "import cv2\n",
    "import matplotlib.pyplot as plt\n",
    "from scipy.ndimage import imread\n",
    "\n",
    "%matplotlib inline\n"
   ]
  },
  {
   "cell_type": "code",
   "execution_count": null,
   "metadata": {
    "collapsed": false
   },
   "outputs": [],
   "source": [
    "#csv parsing from collected data\n",
    "\n",
    "lines = []\n",
    "with open('./collected_data/run1/driving_log.csv') as csvfile:\n",
    "    reader = csv.reader(csvfile)\n",
    "    for line in reader:\n",
    "       lines.append(line) \n",
    "    \n",
    "lines = np.array(lines)\n",
    "images_center_path = np.array(lines[:,0])\n",
    "images_left_path = np.array(lines[:,1])\n",
    "images_right_path = np.array(lines[:,2])\n",
    "steering_vals = np.array(lines[:,3])\n",
    "\n",
    "images_center = []\n",
    "for img_path in images_center_path:\n",
    "    new_img = cv2.imread(img_path)\n",
    "    images_center.append(new_img)\n",
    "\n",
    "print(images_center_path[0])\n",
    "my_img_path = '/home/dani/SDC/CarND-Behavioral-Cloning-P3/collected_data/run1/IMG/center_2017_02_27_21_47_36_087.jpg'\n",
    "my_img = cv2.imread(my_img_path)\n",
    "#print (len(images_center))\n",
    "plt.imshow(images_center[0], cmap='brg')\n",
    "\n",
    "#images_center = np.array(images_center)\n",
    "#print (images_center.shape)\n",
    "\n",
    "#plt.imshow(images_center[0])"
   ]
  },
  {
   "cell_type": "code",
   "execution_count": null,
   "metadata": {
    "collapsed": false
   },
   "outputs": [],
   "source": [
    "from sklearn.utils import shuffle\n",
    "from sklearn.model_selection import train_test_split\n",
    "\n",
    "X_train = np.array(images_center[0:9])\n",
    "y_train = np.array(steering_vals[0:9])\n",
    "\n",
    "X_train, X_test, y_train, y_test = train_test_split(X_train, y_train)\n",
    "\n",
    "print (X_train.shape)"
   ]
  },
  {
   "cell_type": "code",
   "execution_count": null,
   "metadata": {
    "collapsed": false
   },
   "outputs": [],
   "source": [
    "from keras.models import Sequential\n",
    "from keras.layers import Flatten, Dense, Dropout\n",
    "\n",
    "model = Sequential()\n",
    "\n",
    "model.add(Flatten(input_shape=(160,320,3)))\n",
    "model.add(Dense(1))\n",
    "model.compile(loss='mse', optimizer='adam')\n",
    "\n",
    "model.fit(X_train, y_train, nb_epoch=5, validation_split=0.2, shuffle=True)"
   ]
  },
  {
   "cell_type": "code",
   "execution_count": null,
   "metadata": {
    "collapsed": true
   },
   "outputs": [],
   "source": [
    "model.save('model.h5')"
   ]
  },
  {
   "cell_type": "code",
   "execution_count": null,
   "metadata": {
    "collapsed": true
   },
   "outputs": [],
   "source": []
  }
 ],
 "metadata": {
  "kernelspec": {
   "display_name": "Python 3",
   "language": "python",
   "name": "python3"
  },
  "language_info": {
   "codemirror_mode": {
    "name": "ipython",
    "version": 3
   },
   "file_extension": ".py",
   "mimetype": "text/x-python",
   "name": "python",
   "nbconvert_exporter": "python",
   "pygments_lexer": "ipython3",
   "version": "3.5.2"
  },
  "widgets": {
   "state": {},
   "version": "1.1.2"
  }
 },
 "nbformat": 4,
 "nbformat_minor": 2
}
